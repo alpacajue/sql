{
 "cells": [
  {
   "cell_type": "code",
   "id": "initial_id",
   "metadata": {
    "collapsed": true,
    "ExecuteTime": {
     "end_time": "2025-01-06T23:03:54.256678Z",
     "start_time": "2025-01-06T23:03:53.397573Z"
    }
   },
   "source": [
    "import mysql.connector\n",
    "import pandas as pd\n",
    "import matplotlib.pyplot as plt"
   ],
   "outputs": [],
   "execution_count": 1
  },
  {
   "metadata": {
    "ExecuteTime": {
     "end_time": "2025-01-06T23:03:54.286615Z",
     "start_time": "2025-01-06T23:03:54.257754Z"
    }
   },
   "cell_type": "code",
   "source": [
    "# Connect to the database using a Python client\n",
    "connection = mysql.connector.connect(host='localhost', user='root', password='', database='little_lemon')\n",
    "cursor = connection.cursor()"
   ],
   "id": "8b0d7e019651133f",
   "outputs": [],
   "execution_count": 2
  },
  {
   "metadata": {
    "ExecuteTime": {
     "end_time": "2025-01-06T23:03:54.289881Z",
     "start_time": "2025-01-06T23:03:54.287234Z"
    }
   },
   "cell_type": "code",
   "source": [
    "# 1. Execute a simple query\n",
    "cursor.execute(\"select customer_id, name, phone from customers\")\n",
    "rows = cursor.fetchall()\n",
    "for row in rows:\n",
    "    print(row)  # e.g. (1, 'Alice', '123456789')"
   ],
   "id": "46ff42c55a486506",
   "outputs": [
    {
     "name": "stdout",
     "output_type": "stream",
     "text": [
      "(1, 'Alice', '123456789')\n",
      "(2, 'Bob', '987654321')\n",
      "(3, 'Charlie', '555999123')\n",
      "(4, 'Charlie', '555999123')\n",
      "(5, 'Charlie', '555999123')\n",
      "(6, 'Charlie', '555999123')\n"
     ]
    }
   ],
   "execution_count": 3
  },
  {
   "metadata": {
    "ExecuteTime": {
     "end_time": "2025-01-06T23:03:54.292386Z",
     "start_time": "2025-01-06T23:03:54.290440Z"
    }
   },
   "cell_type": "code",
   "source": [
    "customer_name = 'Alice'\n",
    "query = 'SELECT * FROM customers WHERE name = %s'\n",
    "cursor.execute(query, (customer_name,))\n",
    "alice_data = cursor.fetchall()\n",
    "print(\"Alice data:\", alice_data)"
   ],
   "id": "48a13f469367f35e",
   "outputs": [
    {
     "name": "stdout",
     "output_type": "stream",
     "text": [
      "Alice data: [(1, 'Alice', '123456789', 'alice@example.com')]\n"
     ]
    }
   ],
   "execution_count": 4
  },
  {
   "metadata": {
    "ExecuteTime": {
     "end_time": "2025-01-06T23:03:54.295692Z",
     "start_time": "2025-01-06T23:03:54.293631Z"
    }
   },
   "cell_type": "code",
   "source": [
    "# 2. Execute a query with a condition\n",
    "customer_name = 'Alice'\n",
    "query = 'select * from customers where name = %s'\n",
    "cursor.execute(query, (customer_name,))\n",
    "alice_data = cursor.fetchall()\n",
    "print('Alice data:', alice_data)"
   ],
   "id": "507606e9bbe7086e",
   "outputs": [
    {
     "name": "stdout",
     "output_type": "stream",
     "text": [
      "Alice data: [(1, 'Alice', '123456789', 'alice@example.com')]\n"
     ]
    }
   ],
   "execution_count": 5
  },
  {
   "metadata": {
    "ExecuteTime": {
     "end_time": "2025-01-06T23:03:54.305073Z",
     "start_time": "2025-01-06T23:03:54.296399Z"
    }
   },
   "cell_type": "code",
   "source": [
    "# 3. Insert a new customer\n",
    "new_customer = ('Charlie', '555999123', 'charlie@example.com')\n",
    "insert_sql = 'insert into customers (name, phone, email) values (%s, %s, %s)'\n",
    "cursor.execute(insert_sql, new_customer)\n",
    "connection.commit()\n",
    "print('Inserted new customer with ID:', cursor.lastrowid)"
   ],
   "id": "774c3f0ebbac3260",
   "outputs": [
    {
     "name": "stdout",
     "output_type": "stream",
     "text": [
      "Inserted new customer with ID: 7\n"
     ]
    }
   ],
   "execution_count": 6
  },
  {
   "metadata": {
    "ExecuteTime": {
     "end_time": "2025-01-06T23:03:54.309473Z",
     "start_time": "2025-01-06T23:03:54.305750Z"
    }
   },
   "cell_type": "code",
   "source": [
    "# 4. Update a booking\n",
    "update_sql = \"update booking set status='completed' where booking_id = %s\"\n",
    "booking_id = 3\n",
    "cursor.execute(update_sql, (booking_id,))\n",
    "connection.commit()\n",
    "print('Updated booking with ID:', booking_id)\n",
    "print('Affected rows:', cursor.rowcount)"
   ],
   "id": "92704e465c147dee",
   "outputs": [
    {
     "name": "stdout",
     "output_type": "stream",
     "text": [
      "Updated booking with ID: 3\n",
      "Affected rows: 0\n"
     ]
    }
   ],
   "execution_count": 7
  },
  {
   "metadata": {
    "ExecuteTime": {
     "end_time": "2025-01-06T23:03:54.522174Z",
     "start_time": "2025-01-06T23:03:54.310326Z"
    }
   },
   "cell_type": "code",
   "source": [
    "# 5. Use pandas to analyze data\n",
    "df_bookings = pd.read_sql(\"SELECT * FROM booking\", con=connection)\n",
    "print(df_bookings.head())\n",
    "\n",
    "# 5.1. Get the number of bookings by table\n",
    "table_count = df_bookings.groupby('table_number').size()\n",
    "print(table_count)\n",
    "\n",
    "# 5.2. Plot the number of bookings by table\n",
    "table_count.plot(kind='bar')\n",
    "plt.xlabel('Table Number')\n",
    "plt.ylabel('Number of Bookings')\n",
    "plt.title('Bookings by Table')\n",
    "plt.show()"
   ],
   "id": "45c9cd3ece00e784",
   "outputs": [
    {
     "name": "stdout",
     "output_type": "stream",
     "text": [
      "   booking_id  customer_id booking_date    booking_time  table_number  \\\n",
      "0           1            1   2025-01-10 0 days 18:30:00             5   \n",
      "1           2            2   2025-01-10 0 days 19:00:00             3   \n",
      "2           3            1   2025-01-10 0 days 18:30:00             5   \n",
      "3           4            1   2025-01-10 0 days 19:00:00             5   \n",
      "4           6            1   2025-05-10 0 days 19:00:00             5   \n",
      "\n",
      "      status  \n",
      "0     active  \n",
      "1     active  \n",
      "2  completed  \n",
      "3     active  \n",
      "4     active  \n",
      "table_number\n",
      "3     1\n",
      "5    11\n",
      "dtype: int64\n"
     ]
    },
    {
     "name": "stderr",
     "output_type": "stream",
     "text": [
      "/var/folders/n_/df_7_pcd4n36zs9d514ntkdm0000gn/T/ipykernel_3524/1653117789.py:2: UserWarning: pandas only supports SQLAlchemy connectable (engine/connection) or database string URI or sqlite3 DBAPI2 connection. Other DBAPI2 objects are not tested. Please consider using SQLAlchemy.\n",
      "  df_bookings = pd.read_sql(\"SELECT * FROM booking\", con=connection)\n"
     ]
    },
    {
     "data": {
      "text/plain": [
       "<Figure size 640x480 with 1 Axes>"
      ],
      "image/png": "[encoded data removed]"
     },
     "metadata": {},
     "output_type": "display_data"
    }
   ],
   "execution_count": 8
  },
  {
   "metadata": {
    "ExecuteTime": {
     "end_time": "2025-01-06T23:03:54.529332Z",
     "start_time": "2025-01-06T23:03:54.523436Z"
    }
   },
   "cell_type": "code",
   "source": [
    "# 6. Call a stored procedure\n",
    "cursor.callproc('addbooking', [1, '2025-05-10', '19:00:00', 5])\n",
    "connection.commit()\n",
    "for result in cursor.stored_results():\n",
    "    data = result.fetchall()\n",
    "    print(\"Stored procedure output:\", data)"
   ],
   "id": "598ec74e199c9528",
   "outputs": [
    {
     "name": "stdout",
     "output_type": "stream",
     "text": [
      "Stored procedure output: [(14,)]\n"
     ]
    }
   ],
   "execution_count": 9
  },
  {
   "metadata": {
    "ExecuteTime": {
     "end_time": "2025-01-06T23:03:54.532157Z",
     "start_time": "2025-01-06T23:03:54.529954Z"
    }
   },
   "cell_type": "code",
   "source": [
    "cursor.close()\n",
    "connection.close()"
   ],
   "id": "69a82ad1b65632d4",
   "outputs": [],
   "execution_count": 10
  }
 ],
 "metadata": {
  "kernelspec": {
   "display_name": "Python 3",
   "language": "python",
   "name": "python3"
  },
  "language_info": {
   "codemirror_mode": {
    "name": "ipython",
    "version": 2
   },
   "file_extension": ".py",
   "mimetype": "text/x-python",
   "name": "python",
   "nbconvert_exporter": "python",
   "pygments_lexer": "ipython2",
   "version": "2.7.6"
  }
 },
 "nbformat": 4,
 "nbformat_minor": 5
}
